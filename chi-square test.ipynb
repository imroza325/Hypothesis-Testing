{
 "cells": [
  {
   "cell_type": "code",
   "execution_count": 2,
   "id": "4c459b3a-95e2-4311-8b94-04509d3c05d5",
   "metadata": {},
   "outputs": [],
   "source": [
    "#1.state the hypothesis\n",
    "#State the Null and Alternative Hypothesis:\n",
    "#Null Hypothesis (H₀): There is no significant association between the Smart Thermostats,Smart Lights and the customer satisfaction level.\n",
    "#Alternative Hypothesis (H₁): There is a significant association between the types of smart home device purchased and the customer satisfaction level."
   ]
  },
  {
   "cell_type": "code",
   "execution_count": 3,
   "id": "43463667-ccd8-4eda-b11f-de5b2830fb6d",
   "metadata": {},
   "outputs": [],
   "source": [
    "#importing stats module from scipy\n",
    "from scipy import stats"
   ]
  },
  {
   "cell_type": "code",
   "execution_count": 4,
   "id": "dd061dcc-6e57-49e7-b4dc-a8614116f816",
   "metadata": {},
   "outputs": [
    {
     "data": {
      "text/plain": [
       "[[50, 70], [80, 100], [60, 90], [30, 50], [20, 50]]"
      ]
     },
     "execution_count": 4,
     "metadata": {},
     "output_type": "execute_result"
    }
   ],
   "source": [
    "#declaring nested list of the contingency table\n",
    "data=[[50, 70],  # Very Satisfied\n",
    "        [80, 100],  # Satisfied\n",
    "        [60, 90],   # Neutral\n",
    "        [30, 50],   # Unsatisfied\n",
    "        [20, 50]]  # Very Unsatisfied\n",
    "data\n"
   ]
  },
  {
   "cell_type": "code",
   "execution_count": 5,
   "id": "44911790-2383-4a19-a6a0-6fc455cdf2e6",
   "metadata": {},
   "outputs": [
    {
     "name": "stdout",
     "output_type": "stream",
     "text": [
      "Chi-Square Statistic: 5.638227513227513\n",
      "p-value: 0.22784371130697179\n",
      "Degrees of Freedom: 4\n",
      "Expected Frequencies:\n",
      " [[ 48.  72.]\n",
      " [ 72. 108.]\n",
      " [ 60.  90.]\n",
      " [ 32.  48.]\n",
      " [ 28.  42.]]\n"
     ]
    }
   ],
   "source": [
    "#2.compute the chi-square statistics\n",
    "#calculating chi_square statistics,p_value,degree of freedom and expected frequency.\n",
    "chi2_statistic, pval, degrees_of_freedom, expected_frequencies = stats.chi2_contingency(data)\n",
    "\n",
    "# Printing the results\n",
    "print(\"Chi-Square Statistic:\",chi2_statistic)\n",
    "print(\"p-value:\", pval)\n",
    "print(\"Degrees of Freedom:\", degrees_of_freedom)\n",
    "print(\"Expected Frequencies:\\n\", expected_frequencies)"
   ]
  },
  {
   "cell_type": "code",
   "execution_count": 6,
   "id": "17155a9b-79d5-4c76-9774-c12e86290b0f",
   "metadata": {},
   "outputs": [
    {
     "name": "stdout",
     "output_type": "stream",
     "text": [
      "Fail to reject null hypothesis. No evidence of significant association found.\n"
     ]
    }
   ],
   "source": [
    "#3.Determiing the critical value\n",
    "# Hypothesis test interpretation (adjust alpha level as needed)\n",
    "alpha = 0.05\n",
    "if pval < alpha:\n",
    "  print(\"Reject null hypothesis. There's a significant association between device type and satisfaction level.\")\n",
    "else:\n",
    "  print(\"Fail to reject null hypothesis. No evidence of significant association found.\")"
   ]
  },
  {
   "cell_type": "code",
   "execution_count": null,
   "id": "14603133-e513-4703-b3cc-5861b461c2c6",
   "metadata": {},
   "outputs": [],
   "source": [
    "#4.making a dicision\n",
    "'''inference: here,we don't have significant evidence to say that there's a significant association\n",
    "between the type of device purchased and the customer's satisfaction level'''\n",
    "\n",
    "'''conclusion:\n",
    "From the result we conclude that no significatant association between the types of devices purchased and the customer's satisfaction level.\n",
    "so in absence of a strong association between device type and satisfaction,\n",
    "Their might be more productive to investigate on other factors which could influence customer's satisfaction, \n",
    "such as customer support experience or make aware of product features.'''"
   ]
  }
 ],
 "metadata": {
  "kernelspec": {
   "display_name": "Python 3 (ipykernel)",
   "language": "python",
   "name": "python3"
  },
  "language_info": {
   "codemirror_mode": {
    "name": "ipython",
    "version": 3
   },
   "file_extension": ".py",
   "mimetype": "text/x-python",
   "name": "python",
   "nbconvert_exporter": "python",
   "pygments_lexer": "ipython3",
   "version": "3.11.7"
  }
 },
 "nbformat": 4,
 "nbformat_minor": 5
}
