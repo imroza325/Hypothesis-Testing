{
 "cells": [
  {
   "cell_type": "code",
   "execution_count": null,
   "id": "395d6c1c-d881-46f1-a66d-574b428a1622",
   "metadata": {},
   "outputs": [],
   "source": [
    "#1,hypothess statement\n",
    "''' Hypotheses Statement:\n",
    "Null Hypothesis(H0): The theoretical weekly operating cost model is accurate. \n",
    "There is no significant difference between the actual mean weekly cost and the predicted cost produced.\n",
    "\n",
    "Alternative Hypothesis (Ha): The theoretical weekly operating cost model is not accurate. \n",
    "The actual mean weekly cost is significantly higher than the predicted cost produced.'''"
   ]
  },
  {
   "cell_type": "code",
   "execution_count": 4,
   "id": "019ffee1-41d6-4302-9a25-9e374351da7d",
   "metadata": {},
   "outputs": [],
   "source": [
    "#2.calculating the test statistics\n",
    "import scipy.stats as stats\n",
    "import numpy as np"
   ]
  },
  {
   "cell_type": "code",
   "execution_count": 6,
   "id": "b57f9da1-ca38-4b52-8b77-03616140e9d7",
   "metadata": {},
   "outputs": [],
   "source": [
    "#declaring the variables which are neccessary for the calculation\n",
    "exchange_rate = 75  # Rupees per Dollar\n",
    "sample_mean = 3050  # Weekly cost in Rupees\n",
    "num_units = 600  # Average number of units produced\n",
    "cost_per_unit = 5  # Cost per unit from the model\n",
    "fixed_cost = 1000  # Fixed cost from the model\n",
    "sample_size = 25  # Number of restaurants\n",
    "alpha = 0.05  # Significance level"
   ]
  },
  {
   "cell_type": "code",
   "execution_count": 7,
   "id": "73709643-e5be-488b-bf86-18d4320a8214",
   "metadata": {},
   "outputs": [],
   "source": [
    "#3.Determine the critical Value\n",
    "# Convert sample mean to Dollars\n",
    "sample_mean_usd = sample_mean / exchange_rate\n",
    "\n",
    "# Calculate theoretical mean cost\n",
    "theoretical_mean = fixed_cost + (cost_per_unit * num_units)\n",
    "\n",
    "# Standard error of the mean\n",
    "standard_error = (5 * 25) / np.sqrt(sample_size)\n",
    "\n",
    "# Calculate test statistic (t-statistic)\n",
    "t_statistic = (sample_mean_usd - theoretical_mean) / standard_error\n",
    "\n",
    "# Degrees of freedom\n",
    "degrees_of_freedom = sample_size - 1\n",
    "\n",
    "# Find critical value (two-tailed test)\n",
    "critical_value = stats.norm.ppf(1 - alpha / 2, loc=0, scale=1) "
   ]
  },
  {
   "cell_type": "code",
   "execution_count": 8,
   "id": "9236e133-fdd1-48f9-95a0-1d22c3580066",
   "metadata": {},
   "outputs": [
    {
     "name": "stdout",
     "output_type": "stream",
     "text": [
      "Sample mean (USD): 40.666666666666664\n",
      "Theoretical mean (USD): 4000\n",
      "Test statistic (t): -158.37333333333333\n",
      "Degrees of freedom: 24\n",
      "Critical value (alpha = 0.05 ): 1.959963984540054\n"
     ]
    }
   ],
   "source": [
    "#printing results of all above calculations\n",
    "print(\"Sample mean (USD):\", sample_mean_usd)\n",
    "print(\"Theoretical mean (USD):\", theoretical_mean)\n",
    "print(\"Test statistic (t):\", t_statistic)\n",
    "print(\"Degrees of freedom:\", degrees_of_freedom)\n",
    "print(\"Critical value (alpha =\", alpha, \"):\", critical_value)"
   ]
  },
  {
   "cell_type": "code",
   "execution_count": 9,
   "id": "f91261e2-4711-4c3e-9795-dda85507c7b7",
   "metadata": {},
   "outputs": [
    {
     "name": "stdout",
     "output_type": "stream",
     "text": [
      "Reject null hypothesis (H0).\n",
      "The actual cost is significantly different from the theoretical model.\n"
     ]
    }
   ],
   "source": [
    "#4.make a decision\n",
    "# It is one-tailed test,so absolute value of t is used to make decision\n",
    "if abs(t_statistic) > critical_value:\n",
    "  print(\"Reject null hypothesis (H0).\")\n",
    "  print(\"The actual cost is significantly different from the theoretical model.\")\n",
    "else:\n",
    "  print(\"Fail to reject null hypothesis (H0).\")\n",
    "  print(\"There might not be enough evidence to conclude a difference.\")"
   ]
  },
  {
   "cell_type": "code",
   "execution_count": null,
   "id": "dd30c642-3ef0-4d0f-97fc-14ed9a47d87c",
   "metadata": {},
   "outputs": [],
   "source": [
    "#5.conclusion\n",
    "'''Inference:\n",
    "we have significant evidence to prove that the actual cost is significantly different from the theoretical model.'''\n",
    "\n",
    "'''conclusion:\n",
    "we conclude from the analysis that the actual cost model may not be accurate,as their is difference\n",
    "from the theoritical model to weekly operating costs.hence,it is better that Bombay Hospitality Ltd. investigate the reasons behind the cost increase.\n",
    "They may need to revise the cost model to better reflect the current situation and ensure accurate cost estimations for future.'''"
   ]
  },
  {
   "cell_type": "code",
   "execution_count": null,
   "id": "135ee1ed-44c9-4584-9016-9febdbe94ca2",
   "metadata": {},
   "outputs": [],
   "source": []
  }
 ],
 "metadata": {
  "kernelspec": {
   "display_name": "Python 3 (ipykernel)",
   "language": "python",
   "name": "python3"
  },
  "language_info": {
   "codemirror_mode": {
    "name": "ipython",
    "version": 3
   },
   "file_extension": ".py",
   "mimetype": "text/x-python",
   "name": "python",
   "nbconvert_exporter": "python",
   "pygments_lexer": "ipython3",
   "version": "3.11.7"
  }
 },
 "nbformat": 4,
 "nbformat_minor": 5
}
